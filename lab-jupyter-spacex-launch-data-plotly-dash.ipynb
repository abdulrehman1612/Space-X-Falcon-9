{
 "cells": [
  {
   "cell_type": "code",
   "execution_count": 17,
   "id": "c840ad8b",
   "metadata": {},
   "outputs": [],
   "source": [
    "# Import required libraries\n",
    "import pandas as pd\n",
    "import dash\n",
    "import dash_html_components as html\n",
    "import dash_core_components as dcc\n",
    "from dash.dependencies import Input, Output\n",
    "import plotly.express as px\n",
    "\n",
    "# Read the airline data into pandas dataframe\n",
    "URL = \"https://cf-courses-data.s3.us.cloud-object-storage.appdomain.cloud/IBM-DS0321EN-SkillsNetwork/datasets/spacex_launch_dash.csv\"\n",
    "spacex_df = pd.read_csv(URL)\n",
    "max_payload = spacex_df['Payload Mass (kg)'].max()\n",
    "min_payload = spacex_df['Payload Mass (kg)'].min()"
   ]
  },
  {
   "cell_type": "code",
   "execution_count": 174,
   "id": "88b04275",
   "metadata": {
    "scrolled": true
   },
   "outputs": [
    {
     "data": {
      "text/html": [
       "\n",
       "        <iframe\n",
       "            width=\"100%\"\n",
       "            height=\"650\"\n",
       "            src=\"http://127.0.0.1:8050/\"\n",
       "            frameborder=\"0\"\n",
       "            allowfullscreen\n",
       "            \n",
       "        ></iframe>\n",
       "        "
      ],
      "text/plain": [
       "<IPython.lib.display.IFrame at 0x232572e9990>"
      ]
     },
     "metadata": {},
     "output_type": "display_data"
    }
   ],
   "source": [
    "# Create a dash application\n",
    "app = dash.Dash(__name__)\n",
    "\n",
    "# Create an app layout\n",
    "app.layout = html.Div(children=[html.H1('SpaceX Launch Records Dashboard',\n",
    "                                        style={'textAlign': 'center', 'color': '#503D36',\n",
    "                                               'font-size': 40}),\n",
    "                                dcc.Dropdown(id='site-dropdown',\n",
    "                                             options=[{'label': 'All Sites', 'value': 'ALL'},{'label': 'CCAFS LC-40', 'value': 'CCAFS LC-40'},\n",
    "                                                      {'label': 'VAFB SLC-4E', 'value': 'VAFB SLC-4E'}, {'label': 'KSC LC-39A', 'value': 'KSC LC-39A'},\n",
    "                                                      {'label': 'CCAFS SLC-40', 'value': 'CCAFS SLC-40'}],\n",
    "                                             value = 'ALL',\n",
    "                                             placeholder = 'Select Launch Site',\n",
    "                                             searchable = True),\n",
    "                                html.Br(),\n",
    "\n",
    "                                # TASK 2: Add a pie chart to show the total successful launches count for all sites\n",
    "                                # If a specific launch site was selected, show the Success vs. Failed counts for the site\n",
    "                                html.Div(dcc.Graph(id='success-pie-chart')),\n",
    "                                html.Br(),\n",
    "\n",
    "                                html.P(\"Payload range (Kg):\"),\n",
    "                                # TASK 3: Add a slider to select payload range\n",
    "                                #dcc.RangeSlider(id='payload-slider',...)\n",
    "                                dcc.RangeSlider(id='payload-slider',\n",
    "                                                min=0, max=10000, step=1000,\n",
    "                                                marks={0: '0', 1000: '1000', 2000: '2000',\n",
    "                                                      3000: '3000', 4000: '4000', 5000: '5000',\n",
    "                                                      6000: '6000', 7000: '7000',\n",
    "                                                      8000: '8000', 9000: '9000', 10000: '10000'},\n",
    "                                                value=[min_payload, max_payload]),\n",
    "\n",
    "                                # TASK 4: Add a scatter chart to show the correlation between payload and launch success\n",
    "                                html.Div(dcc.Graph(id='success-payload-scatter-chart')),\n",
    "                                ])\n",
    "\n",
    "# TASK 2:\n",
    "# Add a callback function for `site-dropdown` as input, `success-pie-chart` as output\n",
    "# Function decorator to specify function input and output\n",
    "@app.callback(Output(component_id='success-pie-chart', component_property='figure'),\n",
    "              Input(component_id='site-dropdown', component_property='value'))\n",
    "def get_pie_chart(entered_site):\n",
    "    filtered_df = spacex_df\n",
    "    if entered_site == 'ALL':\n",
    "        fig1 = px.pie(spacex_df, values='class', \n",
    "        names='Launch Site', \n",
    "        title='Total Success Launches by Site')\n",
    "        return fig1\n",
    "    else:\n",
    "        entered_site_df = spacex_df[spacex_df['Launch Site'] == entered_site]['class'].value_counts().reset_index()\n",
    "        entered_site_df = entered_site_df.rename(columns= {'index': 'Class', 'class': 'Counts'})\n",
    "        fig1 = px.pie(entered_site_df, values='Counts', \n",
    "        names='Class', \n",
    "        title= f'Total Sucess Launches for Site {entered_site}')\n",
    "        return fig1\n",
    "\n",
    "# TASK 4:\n",
    "# Add a callback function for `site-dropdown` and `payload-slider` as inputs, `success-payload-scatter-chart` as output\n",
    "@app.callback(Output(component_id='success-payload-scatter-chart', component_property='figure'),\n",
    "             [Input(component_id='site-dropdown', component_property='value'), Input(component_id=\"payload-slider\", component_property=\"value\")])\n",
    "def get_scatter_plot(entered_site, payload_value):\n",
    "    if entered_site == 'ALL':\n",
    "        fig2 = px.scatter(spacex_df, x = 'Payload Mass (kg)', y = 'class', color = 'Booster Version Category',\n",
    "                         title = 'Colleration between Payload and Success for all Sites')\n",
    "        return fig2\n",
    "    else:\n",
    "        min_value, max_value = payload_value\n",
    "        site_df = spacex_df[spacex_df['Launch Site'] == entered_site][['class', 'Payload Mass (kg)', 'Booster Version Category']]\n",
    "        filter_df = site_df.loc[(site_df['Payload Mass (kg)']>= min_value)&(site_df['Payload Mass (kg)']<= max_value)]\n",
    "        fig2 = px.scatter(filter_df, x = 'Payload Mass (kg)', y = 'class', color = 'Booster Version Category',\n",
    "                         title = f'Colleration between Payload and Success for site {entered_site} and Payload Mass of Range {payload_value}')\n",
    "        return fig2\n",
    "        \n",
    "\n",
    "\n",
    "# Run the app\n",
    "if __name__ == '__main__':\n",
    "    app.run_server()\n"
   ]
  },
  {
   "cell_type": "code",
   "execution_count": null,
   "id": "2cda389e",
   "metadata": {},
   "outputs": [],
   "source": []
  }
 ],
 "metadata": {
  "kernelspec": {
   "display_name": "Python 3 (ipykernel)",
   "language": "python",
   "name": "python3"
  },
  "language_info": {
   "codemirror_mode": {
    "name": "ipython",
    "version": 3
   },
   "file_extension": ".py",
   "mimetype": "text/x-python",
   "name": "python",
   "nbconvert_exporter": "python",
   "pygments_lexer": "ipython3",
   "version": "3.11.4"
  }
 },
 "nbformat": 4,
 "nbformat_minor": 5
}
